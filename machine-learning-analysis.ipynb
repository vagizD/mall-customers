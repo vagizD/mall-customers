{
 "cells": [
  {
   "cell_type": "markdown",
   "id": "3ebc1fd8",
   "metadata": {},
   "source": [
    "# Predicting the score of customers."
   ]
  },
  {
   "cell_type": "markdown",
   "id": "85c1d6d2",
   "metadata": {},
   "source": [
    "`RandomForestRegressor` will be used to deal with that. The predicting column `\"Spending Score (1-100)\"` will be them divided into 4 categories and `RandomForestClassifier` used instead."
   ]
  },
  {
   "cell_type": "code",
   "execution_count": 1,
   "id": "9094b787",
   "metadata": {},
   "outputs": [],
   "source": [
    "import sklearn\n",
    "import numpy as np\n",
    "import pandas as pd"
   ]
  },
  {
   "cell_type": "code",
   "execution_count": 2,
   "id": "5004e6e2",
   "metadata": {},
   "outputs": [
    {
     "data": {
      "text/html": [
       "<div>\n",
       "<style scoped>\n",
       "    .dataframe tbody tr th:only-of-type {\n",
       "        vertical-align: middle;\n",
       "    }\n",
       "\n",
       "    .dataframe tbody tr th {\n",
       "        vertical-align: top;\n",
       "    }\n",
       "\n",
       "    .dataframe thead th {\n",
       "        text-align: right;\n",
       "    }\n",
       "</style>\n",
       "<table border=\"1\" class=\"dataframe\">\n",
       "  <thead>\n",
       "    <tr style=\"text-align: right;\">\n",
       "      <th></th>\n",
       "      <th>Genre</th>\n",
       "      <th>Age</th>\n",
       "      <th>Annual Income (k$)</th>\n",
       "      <th>Spending Score (1-100)</th>\n",
       "    </tr>\n",
       "    <tr>\n",
       "      <th>CustomerID</th>\n",
       "      <th></th>\n",
       "      <th></th>\n",
       "      <th></th>\n",
       "      <th></th>\n",
       "    </tr>\n",
       "  </thead>\n",
       "  <tbody>\n",
       "    <tr>\n",
       "      <th>1</th>\n",
       "      <td>Male</td>\n",
       "      <td>19</td>\n",
       "      <td>15</td>\n",
       "      <td>39</td>\n",
       "    </tr>\n",
       "    <tr>\n",
       "      <th>2</th>\n",
       "      <td>Male</td>\n",
       "      <td>21</td>\n",
       "      <td>15</td>\n",
       "      <td>81</td>\n",
       "    </tr>\n",
       "    <tr>\n",
       "      <th>3</th>\n",
       "      <td>Female</td>\n",
       "      <td>20</td>\n",
       "      <td>16</td>\n",
       "      <td>6</td>\n",
       "    </tr>\n",
       "    <tr>\n",
       "      <th>4</th>\n",
       "      <td>Female</td>\n",
       "      <td>23</td>\n",
       "      <td>16</td>\n",
       "      <td>77</td>\n",
       "    </tr>\n",
       "    <tr>\n",
       "      <th>5</th>\n",
       "      <td>Female</td>\n",
       "      <td>31</td>\n",
       "      <td>17</td>\n",
       "      <td>40</td>\n",
       "    </tr>\n",
       "  </tbody>\n",
       "</table>\n",
       "</div>"
      ],
      "text/plain": [
       "             Genre  Age  Annual Income (k$)  Spending Score (1-100)\n",
       "CustomerID                                                         \n",
       "1             Male   19                  15                      39\n",
       "2             Male   21                  15                      81\n",
       "3           Female   20                  16                       6\n",
       "4           Female   23                  16                      77\n",
       "5           Female   31                  17                      40"
      ]
     },
     "execution_count": 2,
     "metadata": {},
     "output_type": "execute_result"
    }
   ],
   "source": [
    "mall_customers = pd.read_csv('Mall_Customers.csv', index_col=0)\n",
    "mall_customers.head()"
   ]
  },
  {
   "cell_type": "code",
   "execution_count": 4,
   "id": "18fcee90",
   "metadata": {},
   "outputs": [],
   "source": [
    "# Splitting into X/y:\n",
    "X = mall_customers.drop(\"Spending Score (1-100)\", axis=1)\n",
    "y = mall_customers[\"Spending Score (1-100)\"]"
   ]
  },
  {
   "cell_type": "code",
   "execution_count": 5,
   "id": "56602c29",
   "metadata": {},
   "outputs": [],
   "source": [
    "# converting into numerical feature:\n",
    "from sklearn.preprocessing import OneHotEncoder\n",
    "from sklearn.compose import ColumnTransformer\n",
    "\n",
    "categorical_features = [\"Genre\"]\n",
    "one_hot = OneHotEncoder()\n",
    "transformer = ColumnTransformer([('one_hot',\n",
    "                                  one_hot,\n",
    "                                  categorical_features)],\n",
    "                                 remainder='passthrough')\n",
    "\n",
    "transformed_X = transformer.fit_transform(X)"
   ]
  },
  {
   "cell_type": "code",
   "execution_count": 6,
   "id": "381aa665",
   "metadata": {},
   "outputs": [
    {
     "data": {
      "text/plain": [
       "0.32224686766273636"
      ]
     },
     "execution_count": 6,
     "metadata": {},
     "output_type": "execute_result"
    }
   ],
   "source": [
    "# Preparing data:\n",
    "np.random.seed(100)\n",
    "from sklearn.model_selection import train_test_split\n",
    "\n",
    "X_train, X_test, y_train, y_test = train_test_split(transformed_X, y, test_size=0.2)\n",
    "\n",
    "#Building model:\n",
    "from sklearn.ensemble import RandomForestRegressor\n",
    "\n",
    "model = RandomForestRegressor()\n",
    "model.fit(X_train, y_train)\n",
    "model.score(X_test, y_test)"
   ]
  },
  {
   "cell_type": "code",
   "execution_count": 7,
   "id": "984b26ba",
   "metadata": {},
   "outputs": [
    {
     "name": "stdout",
     "output_type": "stream",
     "text": [
      "Using 10 estimators: 32.03%\n",
      "\n",
      "Using 20 estimators: 35.51%\n",
      "\n",
      "Using 30 estimators: 44.97%\n",
      "\n",
      "Using 40 estimators: 50.37%\n",
      "\n"
     ]
    }
   ],
   "source": [
    "# Improving (tested many times and 50.37% accuracy is best for now):\n",
    "np.random.seed(0)\n",
    "for i in range(10, 41, 10):\n",
    "    model = RandomForestRegressor(n_estimators=i, min_samples_leaf=3, min_samples_split=3)\n",
    "    model.fit(X_train, y_train)\n",
    "    print(f\"Using {i} estimators: {model.score(X_test, y_test) * 100:.2f}%\")\n",
    "    print(\"\")"
   ]
  },
  {
   "cell_type": "code",
   "execution_count": 9,
   "id": "f760add8",
   "metadata": {},
   "outputs": [],
   "source": [
    "# saving model:\n",
    "import pickle\n",
    "\n",
    "# pickle.dump(model, open(\"random-forest-regressor-model-1.pkl\", \"wb\"))"
   ]
  },
  {
   "cell_type": "code",
   "execution_count": 10,
   "id": "44194bc2",
   "metadata": {},
   "outputs": [
    {
     "data": {
      "text/html": [
       "<div>\n",
       "<style scoped>\n",
       "    .dataframe tbody tr th:only-of-type {\n",
       "        vertical-align: middle;\n",
       "    }\n",
       "\n",
       "    .dataframe tbody tr th {\n",
       "        vertical-align: top;\n",
       "    }\n",
       "\n",
       "    .dataframe thead th {\n",
       "        text-align: right;\n",
       "    }\n",
       "</style>\n",
       "<table border=\"1\" class=\"dataframe\">\n",
       "  <thead>\n",
       "    <tr style=\"text-align: right;\">\n",
       "      <th></th>\n",
       "      <th>Age</th>\n",
       "      <th>Annual Income (k$)</th>\n",
       "      <th>Spending Score (1-100)</th>\n",
       "    </tr>\n",
       "  </thead>\n",
       "  <tbody>\n",
       "    <tr>\n",
       "      <th>count</th>\n",
       "      <td>200.000000</td>\n",
       "      <td>200.000000</td>\n",
       "      <td>200.000000</td>\n",
       "    </tr>\n",
       "    <tr>\n",
       "      <th>mean</th>\n",
       "      <td>38.850000</td>\n",
       "      <td>60.560000</td>\n",
       "      <td>50.200000</td>\n",
       "    </tr>\n",
       "    <tr>\n",
       "      <th>std</th>\n",
       "      <td>13.969007</td>\n",
       "      <td>26.264721</td>\n",
       "      <td>25.823522</td>\n",
       "    </tr>\n",
       "    <tr>\n",
       "      <th>min</th>\n",
       "      <td>18.000000</td>\n",
       "      <td>15.000000</td>\n",
       "      <td>1.000000</td>\n",
       "    </tr>\n",
       "    <tr>\n",
       "      <th>25%</th>\n",
       "      <td>28.750000</td>\n",
       "      <td>41.500000</td>\n",
       "      <td>34.750000</td>\n",
       "    </tr>\n",
       "    <tr>\n",
       "      <th>50%</th>\n",
       "      <td>36.000000</td>\n",
       "      <td>61.500000</td>\n",
       "      <td>50.000000</td>\n",
       "    </tr>\n",
       "    <tr>\n",
       "      <th>75%</th>\n",
       "      <td>49.000000</td>\n",
       "      <td>78.000000</td>\n",
       "      <td>73.000000</td>\n",
       "    </tr>\n",
       "    <tr>\n",
       "      <th>max</th>\n",
       "      <td>70.000000</td>\n",
       "      <td>137.000000</td>\n",
       "      <td>99.000000</td>\n",
       "    </tr>\n",
       "  </tbody>\n",
       "</table>\n",
       "</div>"
      ],
      "text/plain": [
       "              Age  Annual Income (k$)  Spending Score (1-100)\n",
       "count  200.000000          200.000000              200.000000\n",
       "mean    38.850000           60.560000               50.200000\n",
       "std     13.969007           26.264721               25.823522\n",
       "min     18.000000           15.000000                1.000000\n",
       "25%     28.750000           41.500000               34.750000\n",
       "50%     36.000000           61.500000               50.000000\n",
       "75%     49.000000           78.000000               73.000000\n",
       "max     70.000000          137.000000               99.000000"
      ]
     },
     "execution_count": 10,
     "metadata": {},
     "output_type": "execute_result"
    }
   ],
   "source": [
    "# Trying to split \"Annual Income (k$)\" into 4 categories.\n",
    "mall_customers.describe()"
   ]
  },
  {
   "cell_type": "code",
   "execution_count": 32,
   "id": "7c679b02",
   "metadata": {},
   "outputs": [
    {
     "data": {
      "text/plain": [
       "array([2., 4., 1., 4., 2., 4., 1., 4., 1., 3., 1., 4., 1., 4., 1., 4., 2.,\n",
       "       3., 1., 4., 2., 3., 1., 3., 1., 4., 1., 3., 1., 4., 1., 3., 1., 4.,\n",
       "       1., 4., 1., 3., 1., 4., 2., 4., 2., 3., 1., 3., 3., 2., 2., 2., 3.,\n",
       "       3., 3., 3., 2., 2., 2., 2., 3., 2., 3., 3., 3., 3., 3., 3., 2., 2.,\n",
       "       3., 2., 3., 2., 2., 3., 2., 3., 3., 2., 3., 2., 3., 3., 2., 2., 3.,\n",
       "       2., 3., 3., 3., 2., 3., 2., 2., 2., 2., 3., 2., 2., 2., 2., 2., 2.,\n",
       "       3., 3., 3., 2., 2., 2., 2., 2., 3., 3., 2., 2., 2., 2., 2., 3., 2.,\n",
       "       3., 3., 2., 3., 4., 1., 4., 2., 4., 1., 4., 1., 4., 1., 3., 1., 4.,\n",
       "       1., 3., 1., 3., 1., 4., 2., 4., 1., 4., 2., 4., 1., 4., 1., 4., 1.,\n",
       "       4., 1., 4., 1., 4., 1., 3., 2., 4., 1., 4., 1., 4., 1., 4., 1., 3.,\n",
       "       1., 4., 1., 4., 1., 4., 1., 3., 1., 4., 1., 4., 1., 4., 2., 4., 1.,\n",
       "       3., 1., 4., 1., 3., 1., 4., 1., 4., 1., 4., 1., 4.])"
      ]
     },
     "execution_count": 32,
     "metadata": {},
     "output_type": "execute_result"
    }
   ],
   "source": [
    "# Converting \"Spending Score (1-100)\" into 4 percentile categories (25th, 50th, 75th):\n",
    "cat = np.array([])\n",
    "for i in mall_customers[\"Spending Score (1-100)\"]:\n",
    "    if i <= 34.75:\n",
    "        cat = np.append(cat, 1)\n",
    "    elif i > 34.75 and i <= 50.0:\n",
    "        cat = np.append(cat, 2)\n",
    "    elif i > 50.0 and i <= 73.0:\n",
    "        cat = np.append(cat, 3)\n",
    "    else:\n",
    "        cat = np.append(cat, 4)\n",
    "        \n",
    "cat"
   ]
  },
  {
   "cell_type": "code",
   "execution_count": 62,
   "id": "694bbd03",
   "metadata": {},
   "outputs": [
    {
     "data": {
      "text/plain": [
       "0.6"
      ]
     },
     "execution_count": 62,
     "metadata": {},
     "output_type": "execute_result"
    }
   ],
   "source": [
    "# Split into X/y:\n",
    "np.random.seed(20)\n",
    "X = mall_customers.drop([\"Spending Score (1-100)\"], axis=1)\n",
    "y = cat\n",
    "\n",
    "categorical_features = [\"Genre\"]\n",
    "one_hot = OneHotEncoder()\n",
    "transformer = ColumnTransformer([('one_hot',\n",
    "                                  one_hot,\n",
    "                                  categorical_features)],\n",
    "                                remainder='passthrough')\n",
    "\n",
    "transformed_X = transformer.fit_transform(X)\n",
    "\n",
    "X_train, X_test, y_train, y_test = train_test_split(transformed_X, y, test_size=0.2)\n",
    "\n",
    "from sklearn.ensemble import RandomForestClassifier\n",
    "clf = RandomForestClassifier()\n",
    "clf.fit(X_train, y_train)\n",
    "clf.score(X_test, y_test)"
   ]
  },
  {
   "cell_type": "code",
   "execution_count": 77,
   "id": "79db0ced",
   "metadata": {},
   "outputs": [
    {
     "name": "stdout",
     "output_type": "stream",
     "text": [
      "Using 10 estimators: 65.00%\n",
      "\n",
      "Using 20 estimators: 60.00%\n",
      "\n",
      "Using 30 estimators: 67.50%\n",
      "\n",
      "Using 40 estimators: 67.50%\n",
      "\n",
      "Using 50 estimators: 70.00%\n",
      "\n"
     ]
    }
   ],
   "source": [
    "np.random.seed(40)\n",
    "for i in range(10, 51, 10):\n",
    "    clf = RandomForestClassifier(n_estimators=i, min_samples_leaf=10, min_samples_split=10, max_depth=15)\n",
    "    clf.fit(X_train, y_train)\n",
    "    print(f\"Using {i} estimators: {clf.score(X_test, y_test) * 100:.2f}%\")\n",
    "    print(\"\")"
   ]
  },
  {
   "cell_type": "code",
   "execution_count": 82,
   "id": "99ddfa18",
   "metadata": {},
   "outputs": [],
   "source": [
    "import pickle\n",
    "\n",
    "# pickle.dump(clf, open(\"random-forest-classifier-model-1.pkl\", \"wb\"))"
   ]
  },
  {
   "cell_type": "code",
   "execution_count": null,
   "id": "412158d8",
   "metadata": {},
   "outputs": [],
   "source": []
  }
 ],
 "metadata": {
  "kernelspec": {
   "display_name": "Python 3 (ipykernel)",
   "language": "python",
   "name": "python3"
  },
  "language_info": {
   "codemirror_mode": {
    "name": "ipython",
    "version": 3
   },
   "file_extension": ".py",
   "mimetype": "text/x-python",
   "name": "python",
   "nbconvert_exporter": "python",
   "pygments_lexer": "ipython3",
   "version": "3.9.7"
  }
 },
 "nbformat": 4,
 "nbformat_minor": 5
}

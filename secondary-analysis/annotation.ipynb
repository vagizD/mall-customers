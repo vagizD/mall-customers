{
 "cells": [
  {
   "cell_type": "markdown",
   "id": "c7386538",
   "metadata": {},
   "source": [
    "# Analysis of dataset about mall customers\n",
    "\n",
    "## Contents\n",
    "\n",
    "1. [Dataset](#Dataset)\n",
    "\n",
    "$\\overline{\\ \\ \\ \\ \\ \\ }$1.1. [Overview](#Overview)\n",
    "\n",
    "$\\overline{\\ \\ \\ \\ \\ \\ }$1.2. [Descriptive Statistics](#Descriptive-Statistics)\n",
    "\n",
    "$\\overline{\\ \\ \\ \\ \\ \\ }$1.3. [Analysis Purpose](#Analysis-Purpose)\n",
    "\n",
    "2. [Feature Analysis](#Feature-Analysis)\n",
    "\n",
    "$\\overline{\\ \\ \\ \\ \\ \\ }$2.1. [Univariate Feature Analysis](#Univariate-Feature-Analysis)\n",
    "\n",
    "$\\overline{\\ \\ \\ \\ \\ \\ }$2.2. [Bivariate Feature Analysis](#Bivariate-Feature-Analysis)\n",
    "\n",
    "$\\overline{\\ \\ \\ \\ \\ \\ }$$\\overline{\\ \\ \\ \\ \\ \\ }$2.2.1. [Linear Dependence](#Linear-Dependence)\n",
    "\n",
    "$\\overline{\\ \\ \\ \\ \\ \\ }$$\\overline{\\ \\ \\ \\ \\ \\ }$2.2.2. [Non-linear Dependence](#Non-linear-Dependence)\n",
    "\n",
    "$\\overline{\\ \\ \\ \\ \\ \\ }$$\\overline{\\ \\ \\ \\ \\ \\ }$2.2.3. [Bivariate Graphs and Distributions](#Bivariate-Graphs-and-Distributions)\n",
    "\n",
    "3. [Clustering](#Clustering)\n",
    "\n",
    "$\\overline{\\ \\ \\ \\ \\ \\ }$3.1. [Number of Groups](#Number-of-Groups)\n",
    "\n",
    "$\\overline{\\ \\ \\ \\ \\ \\ }$3.2. [Results](#Results)"
   ]
  },
  {
   "cell_type": "markdown",
   "id": "5a29888d",
   "metadata": {},
   "source": [
    "## Dataset\n",
    "    \n",
    "The dataset is about customers visiting some mall. The mall owner assigned scores to each of them as well as gathered statistical data. It is created for learning purposes to improve data analysis skills in the field of customer segmentation. The dataset is [presented on Kaggle](https://www.kaggle.com/datasets/vjchoudhary7/customer-segmentation-tutorial-in-python), platform with many structured datasets for analysis and statistics.\n",
    "    \n",
    "    \n",
    "**License**\n",
    "    \n",
    "No specified license, author  allows to use the dataset in any way (details in the link above)."
   ]
  },
  {
   "cell_type": "markdown",
   "id": "98864125",
   "metadata": {},
   "source": [
    "### Overview\n",
    "    \n",
    "`mall customers` dataset represents the mall owner who collected data using the ID cards of customers. The owner possesses some basic data about clients and wants to group them. Thus, the purpose of the project is to conduct statistical analysis and figure out **patterns in data**, whether one can spot linear dependencies, provide homogeneous grouping, or observe non-linear relationships.\n",
    "    \n",
    "The problem of **customers segmentation** is crucial in every marketing company because target groups (i.e. clients of certain characteristics with high potentiality of big purchases) can be used to adjust advertisement and other startegies to better attract and focus on them, thus, increasing the income and making most profit while taking less effort to \"fit\" under low-paying and non-stable clients."
   ]
  },
  {
   "cell_type": "markdown",
   "id": "17655bb2",
   "metadata": {},
   "source": [
    "### Descriptive Statistics"
   ]
  },
  {
   "cell_type": "markdown",
   "id": "3b598742",
   "metadata": {},
   "source": [
    "The dataset contains 5 features and 200 observations and is **secondary data** (since it was collected firstly by owner and then distributed into public usage) which is a **sample** drawn from the whole population of mall customers (it is based on customers who use ID cards and have provided the information about annual salary, not every client falls into that category). The level of data is **individual** since no aggregation is applied. Type: **cross-sectional**, no time frame specified, data is not aligned with *time* axis. Thus, the **unit of observation** is *client*.\n",
    "\n",
    "The table:"
   ]
  },
  {
   "cell_type": "markdown",
   "id": "95323ff2",
   "metadata": {},
   "source": [
    "<img src='png/dataset.png' width=500/>"
   ]
  },
  {
   "cell_type": "markdown",
   "id": "45b229f1",
   "metadata": {},
   "source": [
    "1) `CustomerID` represents the relative ID number of customer, has only unique values (200) since it serves as a database key.\n",
    "\n",
    "2) `Genre` is binary variable which provides information whether the customer is male of female (categorical variable).\n",
    "\n",
    "3) `Age` is numeric variable, measured in years.\n",
    "\n",
    "4) `Annual Income (k$)` is rounded annual income of clients, measured in thousands of dollars per year (numeric variable).\n",
    "\n",
    "5) `Spending Score (1-100)` is the score assigned by mall owner. The higher the value, the \"better\" is client's purchase history (numeric variable)."
   ]
  },
  {
   "cell_type": "markdown",
   "id": "712fb2a1",
   "metadata": {},
   "source": [
    "**Calculations note**: since the number of samples is not small (200), division by $n = N = 200$ (treating dataset as population) is not very different from $n = N + 1 = 201$ (treating dataset as sample of population). All calculations use $n = N = 200$.\n",
    "\n",
    "The summary statistics for features (one categorical and 3 numeric):"
   ]
  },
  {
   "cell_type": "markdown",
   "id": "67f55f21",
   "metadata": {},
   "source": [
    "<img src='png/summary-statistics.png' width=700/>"
   ]
  },
  {
   "cell_type": "markdown",
   "id": "7f0ebaad",
   "metadata": {},
   "source": [
    "From the first view, age has smaller *variance* $\\displaystyle \\left(\\text{Var} = \\frac{1}{N}\\sum_{i=1}^{N}(x_i - \\overline{x})^2\\right)$ and *standard deviation* $\\displaystyle \\left(\\sigma = \\sqrt{Var}\\right)$ and therefore more centered distribution. Spending score has fairly uniform distribution based on its quartiles. Overall, summary does not provide useful information about patterns, thus, features will be looked at more thoroughly."
   ]
  },
  {
   "cell_type": "markdown",
   "id": "a88508f6",
   "metadata": {},
   "source": [
    "### Analysis Purpose\n",
    "   \n",
    "The question to answer is \"What relationships purchasing activity (`Spending Score` variable) has with age, genre, and annual income (independent variables, inner customers characteristics)?\". Answer would indicate the degree of confidence to which one can **predict** the *score* variable."
   ]
  },
  {
   "cell_type": "markdown",
   "id": "5ddeb40b",
   "metadata": {},
   "source": [
    "## Feature Analysis"
   ]
  },
  {
   "cell_type": "markdown",
   "id": "9fb7d734",
   "metadata": {},
   "source": [
    "### Univariate Feature Analysis"
   ]
  },
  {
   "cell_type": "markdown",
   "id": "9a8f17c1",
   "metadata": {},
   "source": [
    "**`CustomerID`** represents the relative ID number of customer, has only unique values (200) since it serves as a database key.\n",
    "\n",
    "It does not give any information and is used as index only."
   ]
  },
  {
   "cell_type": "markdown",
   "id": "e2067b37",
   "metadata": {},
   "source": [
    "**`Genre`** is binary variable which provides data whether the customer is male of female (categorical variable)."
   ]
  },
  {
   "cell_type": "markdown",
   "id": "d619c1d2",
   "metadata": {},
   "source": [
    "<img src='visualizations/genre-chart1.png' width=300/>"
   ]
  },
  {
   "cell_type": "markdown",
   "id": "1bccf6e2",
   "metadata": {},
   "source": [
    "The genre distribution is almost balanced, having 12% (24) difference between female (112) and male (88) customers.\n",
    "\n",
    "**`Age`** is numeric variable, measured in years."
   ]
  },
  {
   "cell_type": "markdown",
   "id": "34c96517",
   "metadata": {},
   "source": [
    "<img src='visualizations/age-unit-interval-chart.png' width=900/>"
   ]
  },
  {
   "cell_type": "markdown",
   "id": "0bbfcb77",
   "metadata": {},
   "source": [
    "Even though the distribution is presented, groups number is too big because of small interval size (1 year). To see clearer grouping, the bin width should be increased."
   ]
  },
  {
   "cell_type": "markdown",
   "id": "23b5600e",
   "metadata": {},
   "source": [
    "<img src='visualizations/age-binned-dist-chart.png' width=800/>"
   ]
  },
  {
   "cell_type": "markdown",
   "id": "b9290de6",
   "metadata": {},
   "source": [
    "The chart above shows that people at age of 30-35 are mostly presented in the dataset (mode), whereas people of age 60-65 form the smallest sample.\n",
    "\n",
    "Mean is calculated as $\\displaystyle \\frac{\\sum_{i=1}^{N}x_i}{N} = 38.85$. Median is the midpoint of the interval and therefore average of 100th and 101st elements and equal to 36. These values indicate that the distribution is **right-skewed**. "
   ]
  },
  {
   "cell_type": "markdown",
   "id": "889c55b2",
   "metadata": {},
   "source": [
    "**`Annual Income (k$)`** is rounded annual income of clients, measured in thousands of dollars per year (numeric variable)."
   ]
  },
  {
   "cell_type": "markdown",
   "id": "a5b819c4",
   "metadata": {},
   "source": [
    "<img src='visualizations/income-chart.png' width=800/>"
   ]
  },
  {
   "cell_type": "markdown",
   "id": "499c7d35",
   "metadata": {},
   "source": [
    "Distribution shows that mean value (Q2) is close to 60 (almost between Q1 and Q3) and right \"tail\" of distribution is longer than left one, indicating that distribution is slightly **right-skewed**."
   ]
  },
  {
   "cell_type": "markdown",
   "id": "8b0535ea",
   "metadata": {},
   "source": [
    "### Bivariate Feature Analysis"
   ]
  },
  {
   "cell_type": "markdown",
   "id": "9d84e471",
   "metadata": {},
   "source": [
    "The central feature is **Spending Score**, the behavior of which is explored. It can have two types of relationships with independent variables - linear and non-linear.\n",
    "\n",
    "#### Linear Dependence\n",
    "\n",
    "Assuming only linear dependence is a restriction of input function to the family of linear functions. Typically, **regression** helps to construct the line of best fit to data points."
   ]
  },
  {
   "cell_type": "markdown",
   "id": "4e7eb067",
   "metadata": {},
   "source": [
    "#### Non-linear Dependence\n",
    "\n",
    "Non-linear type of relationship is any kind of correlation apart from linear one. For instance, if joint distributions of dependent and independent variables represent two non-overlapping distributions, the independent variable is said to completely separate dependent variable into homogeneous subsamples. Since the `Spending Score` is numeric, either *clustering* or *regression* are applicable.\n",
    "\n",
    "**Clustering** is the approach to find similarities among observations and therefore group them according to some criteria. *KMeans* is an approach to look for \"neighbors\". Speaking more formally, $k$ centers (different $k$ colors) are picked in $N$-dimensional space and iteratively updated while all the points being assigned to the group (color) of closest center. The process is done by computing euclidean distances $\\displaystyle \\left(d(q,p) = \\sqrt{\\sum_{i=1}^{N}(q_i - p_i)^2},\\text{ q and p being points on N-dimensional axis}\\right)$. In other words, if people with similar characteristics are scattered on $N$-dimensional axis, similarity is correlated with homogeneity (\"neighborhood\") of resulted subsamples. Clients staying \"close to each other\" on the axis are groups called *clusters*.\n",
    "    \n",
    "There are many examples of clustering importance apart from customers segmentation. Division of students into \"stronger\" and \"weaker\" classes allows to adjust coursework pace, homework load, and increase overall efficiency of students from both groups. Finding reasons behind \"churn\" customers (ones who cancel the product or service within a given period of time) makes company able to call and make special offers to clients with high potentiality of \"churn\" instead of calling random ones."
   ]
  },
  {
   "cell_type": "markdown",
   "id": "eba5c538",
   "metadata": {},
   "source": [
    "#### Bivariate Graphs and Distributions\n",
    "\n",
    "Using the boxplot, distribution of `Spending Score` splitted by `Genre` could be observed."
   ]
  },
  {
   "cell_type": "markdown",
   "id": "e91565be",
   "metadata": {},
   "source": [
    "<img src='visualizations/joint-score-genre.png' width=700/>"
   ]
  },
  {
   "cell_type": "markdown",
   "id": "851afa82",
   "metadata": {},
   "source": [
    "`Genre` produces *right-skewed* (female) and *left-skewed* (male) distributions, but they still have the same mean, which indicates a high level of homogeneity alongside with close Q3 and Q2 values."
   ]
  },
  {
   "cell_type": "markdown",
   "id": "080babaf",
   "metadata": {},
   "source": [
    "<img src='visualizations/scatter-score-age.png' width=700/>"
   ]
  },
  {
   "cell_type": "markdown",
   "id": "154e3fae",
   "metadata": {},
   "source": [
    "The graph above indicates the absence of linear relationship between `Spending Score` and `Age` variables of first order. Points are very far away from line, meaning that error of that estimation is large.\n",
    "\n",
    "Using two plots at the same time, it is possible to reflect all four features present in dataset:"
   ]
  },
  {
   "cell_type": "markdown",
   "id": "a78746ea",
   "metadata": {},
   "source": [
    "<img src='visualizations/score-age-income.png' width=900/>"
   ]
  },
  {
   "cell_type": "markdown",
   "id": "009b0563",
   "metadata": {},
   "source": [
    "The left graph is the same illustration as the previous one (`Score` & `Age`) but with labeled `Genre` variable and computed means for males and females to corresponding plots. Males and females are randomly distributed (i.e. without patterns) and provide no insight. The only thing is that space on axis {`Score` $\\displaystyle\\in [60, 100]$}$\\bigcup${`Age` $\\displaystyle\\in [45, 70]$} (upper-right corner) is completely empty (no data points fall within this range). However, this detail does not help with the rest of axis.\n",
    "\n",
    "The right one (`Annual Income` & `Score`) is clearer in terms of information. Even though separation of points on male and female does not decrease the entropy, it is noticeable that groups (swarms of points) are formed. Thus, clustering would help with optimal number of groups and vivid illustration."
   ]
  },
  {
   "cell_type": "markdown",
   "id": "6cc340db",
   "metadata": {},
   "source": [
    "## Clustering"
   ]
  },
  {
   "cell_type": "markdown",
   "id": "7ed20e99",
   "metadata": {},
   "source": [
    "### Number of Groups\n",
    "\n",
    "Optimal number of groups is important since having too many of them will lead to similar subsamples while having too few clusters will result into higher level of heterogeneity. *Elbow curve* helps to solve this problem."
   ]
  },
  {
   "cell_type": "markdown",
   "id": "607ea909",
   "metadata": {},
   "source": [
    "<img src='visualizations/elbow1.png' width=650/>"
   ]
  },
  {
   "cell_type": "markdown",
   "id": "1585fa11",
   "metadata": {},
   "source": [
    "The closer points to the nearest center, the better (low $y$ values favoured). The smaller the number of groups, the better as well (low $x$ values are preferred). The line shows that after point $x=5$ the slope is only less steep, indicating that further division into groups provides less and less homogeneity (less profit). Thus, the optimal number of groups is 5."
   ]
  },
  {
   "cell_type": "markdown",
   "id": "ac7f18ab",
   "metadata": {},
   "source": [
    "### Results\n",
    "\n",
    "The result of grouping clients by `Spending Score` and `Annual Income` into five groups:"
   ]
  },
  {
   "cell_type": "markdown",
   "id": "17b8e5a2",
   "metadata": {},
   "source": [
    "<img src='visualizations/clustering.png' width=700/>"
   ]
  },
  {
   "cell_type": "markdown",
   "id": "22b6a94d",
   "metadata": {},
   "source": [
    "The clusters on sides are not completely homogeneous while one in the middle (orange) is unique. It says that all customers of moderate annual salary ($\\approx$40-60k/year) have the medium score of $\\approx$40-60 points. Even though other four groups overlap with each other, overall segmentation is profitable.\n",
    "\n",
    "For example, mall owner can take more care about people in orange group with salary close to 65k/year since after little increase in income, these people will fall into either blue or red group. Thus, since blue group is more beneficial for mall, its strategy will focus on clients who are on boundaries of high and low groups (like blue and red). Less attention will be given to low-scoring and high scoring clients, since they are far from boundaries."
   ]
  },
  {
   "cell_type": "markdown",
   "id": "7598b78a",
   "metadata": {},
   "source": [
    "<img src='png/kmeans-labels.png' width=125>"
   ]
  },
  {
   "cell_type": "markdown",
   "id": "84c5aaa2",
   "metadata": {},
   "source": [
    "Moreover, second group (orange) is presented the most, and focusing on the development of that group has vivid idea while it covers $40.5\\%$ of population (an estimate). Groups 1 and 3 (violet and green respectively) together comprise $22.5\\%$ of clients, being the smallest segments.\n",
    "\n",
    "**Conclusion**\n",
    "\n",
    "To conclude, customers of mall are divided into 5 groups which are relatively different from each other. The group 2 (orange) can be uniquely targeted since it represents highly homogeneous subsample.\n",
    "\n",
    "Considering analysis purpose, predict the `Spending Score` variable with high accuracy in the scope of given dataset is not possible. Relationships with other features made it possible to perform customers segmentation."
   ]
  }
 ],
 "metadata": {
  "kernelspec": {
   "display_name": "Python 3 (ipykernel)",
   "language": "python",
   "name": "python3"
  },
  "language_info": {
   "codemirror_mode": {
    "name": "ipython",
    "version": 3
   },
   "file_extension": ".py",
   "mimetype": "text/x-python",
   "name": "python",
   "nbconvert_exporter": "python",
   "pygments_lexer": "ipython3",
   "version": "3.9.13"
  }
 },
 "nbformat": 4,
 "nbformat_minor": 5
}
